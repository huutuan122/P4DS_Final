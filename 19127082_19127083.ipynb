{
 "cells": [
  {
   "cell_type": "markdown",
   "metadata": {},
   "source": [
    "# THÔNG TIN THÀNH VIÊN"
   ]
  },
  {
   "cell_type": "markdown",
   "metadata": {},
   "source": [
    "# <center> ĐỒ ÁN CUỐI MÔN"
   ]
  },
  {
   "cell_type": "markdown",
   "metadata": {},
   "source": [
    "# I. THU THẬP DỮ LIỆU "
   ]
  },
  {
   "cell_type": "markdown",
   "metadata": {},
   "source": [
    "- **Chủ đề của dữ liệu của bạn là gì? Và nguồn của dữ liệu của bạn?**  \n",
    "Dữ liệu mà tụi mình tìm hiểu là dữ liệu của công ty Airbnb - một dịch vụ cho thuê nhà, căn hộ. Tụi mình đã sử dụng dữ liệu từ nguồn Kaggle, bạn có thể tham khảo dữ liệu [tại đây](https://www.kaggle.com/dgomonov/new-york-city-airbnb-open-data?select=AB_NYC_2019.csv).\n",
    "- **Tác giả có cho phép bạn sử dụng dữ liệu? Kiểm tra về giấy phép của dữ liệu**  \n",
    "Theo như nhóm chúng mình tìm hiểu, thì tập dữ liệu mà chúng mình chọn là tập dữ liệu công cộng, được phép sử dụng theo chuẩn ***CC0:Public Domain***.\n",
    "- **Tác giả đã thu thập dữ liệu như thế nào?**\n",
    "Đây là dữ liệu được thu thập của dịch vụ Airbnb trong năm 2019 tại thành phố New York. Dữ liệu liệt kê các thông tin về căn hộ được cho thuê, cũng như một số thông tin đánh giá về căn hộ."
   ]
  },
  {
   "cell_type": "markdown",
   "metadata": {},
   "source": [
    "# II. KHÁM PHÁ DỮ LIỆU"
   ]
  },
  {
   "cell_type": "markdown",
   "metadata": {},
   "source": [
    "# III. ĐẶT RA CÁC CÂU HỎI HỮU ÍCH"
   ]
  },
  {
   "cell_type": "markdown",
   "metadata": {},
   "source": [
    "Sau khi ta đã khám phá và có những hiểu biết sơ lược về dữ liệu, tiếp theo ta sẽ đặt ra các câu hỏi nhằm mục đích phân tích, tìm tòi các thông tin hữu ích mà ta có thể tận dụng trong các công việc kinh doanh:\n",
    "- Giá nhà trung bình ở các khu dân cư ở thành phố New York có sự chênh lệch như thế nào ?\n",
    "- Với loại phòng private room, thì ta nên chọn khu vực nào để thuê?\n",
    "- Trong năm 2019, thì chủ nhà nào ở New York `ăn nên làm ra` nhất?\n",
    "- Giả sử ta có chuyến công tác trong vòng 10 ngày ở thành phố New York, thì ta nên chọn nhà của host nào là lợi cho mình nhất?"
   ]
  }
 ],
 "metadata": {
  "interpreter": {
   "hash": "be75483425e66f820f59c38eb1d63a6cd68bdb5a0bf4e45e9a520a07c6f3952b"
  },
  "kernelspec": {
   "display_name": "Python 3.8.8 64-bit ('min_ds-env': conda)",
   "language": "python",
   "name": "python3"
  },
  "language_info": {
   "codemirror_mode": {
    "name": "ipython",
    "version": 3
   },
   "file_extension": ".py",
   "mimetype": "text/x-python",
   "name": "python",
   "nbconvert_exporter": "python",
   "pygments_lexer": "ipython3",
   "version": "3.8.8"
  },
  "orig_nbformat": 4
 },
 "nbformat": 4,
 "nbformat_minor": 2
}
