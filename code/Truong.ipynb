{
 "cells": [
  {
   "cell_type": "markdown",
   "metadata": {},
   "source": [
    "# THÔNG TIN THÀNH VIÊN\n",
    "<center>\n",
    "\n",
    "| Họ tên | Mã số sinh viên | Email |\n",
    "|:---:|:---:|:---:|\n",
    "| Nguyễn Tất Trường | 19127082 | 19127082@student.hcmus.edu.vn |\n",
    "| Nguyễn Hữu Tuấn | 19127083 | 19127082@student.hcmus.edu.vn |\n",
    "\n",
    "</center>\n",
    "\n",
    "\n",
    "``Đây là đồ án nhóm phục vụ cho môn học:`` ***Lập trình Khoa học dữ liệu*** ."
   ]
  },
  {
   "cell_type": "markdown",
   "metadata": {},
   "source": [
    "# <center> ĐỒ ÁN CUỐI MÔN"
   ]
  },
  {
   "cell_type": "markdown",
   "metadata": {},
   "source": [
    "# IMPORT CÁC THƯ VIỆN CẦN THIẾT"
   ]
  },
  {
   "cell_type": "code",
   "execution_count": 1,
   "metadata": {},
   "outputs": [],
   "source": [
    "import pandas as pd\n",
    "import numpy as np\n",
    "import matplotlib.pyplot as plt"
   ]
  },
  {
   "cell_type": "markdown",
   "metadata": {},
   "source": [
    "# I. THU THẬP DỮ LIỆU "
   ]
  },
  {
   "cell_type": "markdown",
   "metadata": {},
   "source": [
    "- **Chủ đề của dữ liệu của bạn là gì? Và nguồn của dữ liệu của bạn?**  \n",
    "Dữ liệu mà tụi mình tìm hiểu là dữ liệu của công ty Airbnb - một dịch vụ cho thuê nhà, căn hộ. Tụi mình đã sử dụng dữ liệu từ nguồn Kaggle, bạn có thể tham khảo dữ liệu [tại đây](https://www.kaggle.com/dgomonov/new-york-city-airbnb-open-data?select=AB_NYC_2019.csv).\n",
    "- **Tác giả có cho phép bạn sử dụng dữ liệu? Kiểm tra về giấy phép của dữ liệu**  \n",
    "Theo như nhóm chúng mình tìm hiểu, thì tập dữ liệu mà chúng mình chọn là tập dữ liệu công cộng, được phép sử dụng theo chuẩn ***CC0:Public Domain***.\n",
    "- **Tác giả đã thu thập dữ liệu như thế nào?**\n",
    "Đây là dữ liệu được thu thập của dịch vụ Airbnb trong năm 2019 tại thành phố New York. Dữ liệu liệt kê các thông tin về căn hộ được cho thuê, cũng như một số thông tin đánh giá về căn hộ."
   ]
  },
  {
   "cell_type": "markdown",
   "metadata": {},
   "source": [
    "# II. KHÁM PHÁ DỮ LIỆU"
   ]
  },
  {
   "cell_type": "code",
   "execution_count": 2,
   "metadata": {},
   "outputs": [
    {
     "data": {
      "text/html": [
       "<div>\n",
       "<style scoped>\n",
       "    .dataframe tbody tr th:only-of-type {\n",
       "        vertical-align: middle;\n",
       "    }\n",
       "\n",
       "    .dataframe tbody tr th {\n",
       "        vertical-align: top;\n",
       "    }\n",
       "\n",
       "    .dataframe thead th {\n",
       "        text-align: right;\n",
       "    }\n",
       "</style>\n",
       "<table border=\"1\" class=\"dataframe\">\n",
       "  <thead>\n",
       "    <tr style=\"text-align: right;\">\n",
       "      <th></th>\n",
       "      <th>id</th>\n",
       "      <th>name</th>\n",
       "      <th>host_id</th>\n",
       "      <th>host_name</th>\n",
       "      <th>neighbourhood_group</th>\n",
       "      <th>neighbourhood</th>\n",
       "      <th>latitude</th>\n",
       "      <th>longitude</th>\n",
       "      <th>room_type</th>\n",
       "      <th>price</th>\n",
       "      <th>minimum_nights</th>\n",
       "      <th>number_of_reviews</th>\n",
       "      <th>last_review</th>\n",
       "      <th>reviews_per_month</th>\n",
       "      <th>calculated_host_listings_count</th>\n",
       "      <th>availability_365</th>\n",
       "    </tr>\n",
       "  </thead>\n",
       "  <tbody>\n",
       "    <tr>\n",
       "      <th>0</th>\n",
       "      <td>2539</td>\n",
       "      <td>Clean &amp; quiet apt home by the park</td>\n",
       "      <td>2787</td>\n",
       "      <td>John</td>\n",
       "      <td>Brooklyn</td>\n",
       "      <td>Kensington</td>\n",
       "      <td>40.64749</td>\n",
       "      <td>-73.97237</td>\n",
       "      <td>Private room</td>\n",
       "      <td>149</td>\n",
       "      <td>1</td>\n",
       "      <td>9</td>\n",
       "      <td>2018-10-19</td>\n",
       "      <td>0.21</td>\n",
       "      <td>6</td>\n",
       "      <td>365</td>\n",
       "    </tr>\n",
       "    <tr>\n",
       "      <th>1</th>\n",
       "      <td>2595</td>\n",
       "      <td>Skylit Midtown Castle</td>\n",
       "      <td>2845</td>\n",
       "      <td>Jennifer</td>\n",
       "      <td>Manhattan</td>\n",
       "      <td>Midtown</td>\n",
       "      <td>40.75362</td>\n",
       "      <td>-73.98377</td>\n",
       "      <td>Entire home/apt</td>\n",
       "      <td>225</td>\n",
       "      <td>1</td>\n",
       "      <td>45</td>\n",
       "      <td>2019-05-21</td>\n",
       "      <td>0.38</td>\n",
       "      <td>2</td>\n",
       "      <td>355</td>\n",
       "    </tr>\n",
       "    <tr>\n",
       "      <th>2</th>\n",
       "      <td>3647</td>\n",
       "      <td>THE VILLAGE OF HARLEM....NEW YORK !</td>\n",
       "      <td>4632</td>\n",
       "      <td>Elisabeth</td>\n",
       "      <td>Manhattan</td>\n",
       "      <td>Harlem</td>\n",
       "      <td>40.80902</td>\n",
       "      <td>-73.94190</td>\n",
       "      <td>Private room</td>\n",
       "      <td>150</td>\n",
       "      <td>3</td>\n",
       "      <td>0</td>\n",
       "      <td>NaN</td>\n",
       "      <td>NaN</td>\n",
       "      <td>1</td>\n",
       "      <td>365</td>\n",
       "    </tr>\n",
       "    <tr>\n",
       "      <th>3</th>\n",
       "      <td>3831</td>\n",
       "      <td>Cozy Entire Floor of Brownstone</td>\n",
       "      <td>4869</td>\n",
       "      <td>LisaRoxanne</td>\n",
       "      <td>Brooklyn</td>\n",
       "      <td>Clinton Hill</td>\n",
       "      <td>40.68514</td>\n",
       "      <td>-73.95976</td>\n",
       "      <td>Entire home/apt</td>\n",
       "      <td>89</td>\n",
       "      <td>1</td>\n",
       "      <td>270</td>\n",
       "      <td>2019-07-05</td>\n",
       "      <td>4.64</td>\n",
       "      <td>1</td>\n",
       "      <td>194</td>\n",
       "    </tr>\n",
       "    <tr>\n",
       "      <th>4</th>\n",
       "      <td>5022</td>\n",
       "      <td>Entire Apt: Spacious Studio/Loft by central park</td>\n",
       "      <td>7192</td>\n",
       "      <td>Laura</td>\n",
       "      <td>Manhattan</td>\n",
       "      <td>East Harlem</td>\n",
       "      <td>40.79851</td>\n",
       "      <td>-73.94399</td>\n",
       "      <td>Entire home/apt</td>\n",
       "      <td>80</td>\n",
       "      <td>10</td>\n",
       "      <td>9</td>\n",
       "      <td>2018-11-19</td>\n",
       "      <td>0.10</td>\n",
       "      <td>1</td>\n",
       "      <td>0</td>\n",
       "    </tr>\n",
       "  </tbody>\n",
       "</table>\n",
       "</div>"
      ],
      "text/plain": [
       "     id                                              name  host_id  \\\n",
       "0  2539                Clean & quiet apt home by the park     2787   \n",
       "1  2595                             Skylit Midtown Castle     2845   \n",
       "2  3647               THE VILLAGE OF HARLEM....NEW YORK !     4632   \n",
       "3  3831                   Cozy Entire Floor of Brownstone     4869   \n",
       "4  5022  Entire Apt: Spacious Studio/Loft by central park     7192   \n",
       "\n",
       "     host_name neighbourhood_group neighbourhood  latitude  longitude  \\\n",
       "0         John            Brooklyn    Kensington  40.64749  -73.97237   \n",
       "1     Jennifer           Manhattan       Midtown  40.75362  -73.98377   \n",
       "2    Elisabeth           Manhattan        Harlem  40.80902  -73.94190   \n",
       "3  LisaRoxanne            Brooklyn  Clinton Hill  40.68514  -73.95976   \n",
       "4        Laura           Manhattan   East Harlem  40.79851  -73.94399   \n",
       "\n",
       "         room_type  price  minimum_nights  number_of_reviews last_review  \\\n",
       "0     Private room    149               1                  9  2018-10-19   \n",
       "1  Entire home/apt    225               1                 45  2019-05-21   \n",
       "2     Private room    150               3                  0         NaN   \n",
       "3  Entire home/apt     89               1                270  2019-07-05   \n",
       "4  Entire home/apt     80              10                  9  2018-11-19   \n",
       "\n",
       "   reviews_per_month  calculated_host_listings_count  availability_365  \n",
       "0               0.21                               6               365  \n",
       "1               0.38                               2               355  \n",
       "2                NaN                               1               365  \n",
       "3               4.64                               1               194  \n",
       "4               0.10                               1                 0  "
      ]
     },
     "execution_count": 2,
     "metadata": {},
     "output_type": "execute_result"
    }
   ],
   "source": [
    "df = pd.read_csv('../AB_NYC_2019.csv', sep = ',')\n",
    "df.head()"
   ]
  },
  {
   "cell_type": "markdown",
   "metadata": {},
   "source": [
    "- Bộ dữ liệu có bao nhiêu dòng, bao nhiêu cột?"
   ]
  },
  {
   "cell_type": "code",
   "execution_count": 3,
   "metadata": {},
   "outputs": [
    {
     "data": {
      "text/plain": [
       "(48895, 16)"
      ]
     },
     "execution_count": 3,
     "metadata": {},
     "output_type": "execute_result"
    }
   ],
   "source": [
    "rows = len(df)\n",
    "cols = len(df.iloc[0])\n",
    "rows, cols"
   ]
  },
  {
   "cell_type": "markdown",
   "metadata": {},
   "source": [
    "Như vậy, bộ dữ liệu có tổng cộng 48895 dòng và 16 cột. Bây giờ, ta sẽ tìm hiểu ý nghĩa của các cột. Theo file mô tả của bộ dữ liệu, ta có được các ý nghĩa của các cột như sau:\n",
    "- id: id của nơi ở được liệt kê\n",
    "- name: tên của nơi ở được liệt kê\n",
    "- host_id: tên của người sở hữu nơi ở được liệt kê\n",
    "- neighborhood_group: tên của quận ở New York\n",
    "- neighborhood: tên của một phường ở New York\n",
    "- latitude: Vĩ độ của nơi ở được liệt kê\n",
    "- longtitude: kinh độ của nơi ở được liệt kê\n",
    "- room_type: loại phòng được thuê\n",
    "- price: giá của từng nơi ở được liệt kê\n",
    "- minimum_nights: số lượng đêm ngủ lại nhỏ nhất ở trong nơi ở được liệt kê\n",
    "- number_of_reviews: lượng đánh giá, nhận xét của từng nơi ở được liệt kê\n",
    "- last_review: ngày đánh giá cuối cùng của nơi ở được liệt kê\n",
    "- reviews_per_month: Trung bình lượt review mỗi tháng\n",
    "- calculated_host_listings_count: số lần mà mỗi chủ sỡ hữu sở hữu nơi ở được liệt kê\n",
    "- availability_365: số ngày mà nơi ở được liệt kê có sẵn trong năm"
   ]
  },
  {
   "cell_type": "markdown",
   "metadata": {},
   "source": [
    "Sau khi có được ý nghĩa của mỗi cột, ta sẽ tiến hành kiểm xem có dòng nào bị trùng không?"
   ]
  },
  {
   "cell_type": "code",
   "execution_count": 4,
   "metadata": {},
   "outputs": [
    {
     "data": {
      "text/plain": [
       "0"
      ]
     },
     "execution_count": 4,
     "metadata": {},
     "output_type": "execute_result"
    }
   ],
   "source": [
    "np.sum(df.duplicated(subset=None, keep=\"first\")==True)"
   ]
  },
  {
   "cell_type": "markdown",
   "metadata": {},
   "source": [
    "Như vậy, không có dòng nào bị lặp. Ta sẽ xem thử ý nghĩa của từng dòng. Từ dữ liệu của `df`, ta thấy rằng mỗi dòng dữ liệu cho biết tình trạng của một nơi ở, mỗi phần tử ứng với một cột ở trên."
   ]
  },
  {
   "cell_type": "markdown",
   "metadata": {},
   "source": [
    "Tiếp đến, ta sẽ tìm hiểu về kiểu dữ liệu của mỗi cột. "
   ]
  },
  {
   "cell_type": "code",
   "execution_count": 5,
   "metadata": {},
   "outputs": [
    {
     "name": "stdout",
     "output_type": "stream",
     "text": [
      "id                                  int64\n",
      "name                               object\n",
      "host_id                             int64\n",
      "host_name                          object\n",
      "neighbourhood_group                object\n",
      "neighbourhood                      object\n",
      "latitude                          float64\n",
      "longitude                         float64\n",
      "room_type                          object\n",
      "price                               int64\n",
      "minimum_nights                      int64\n",
      "number_of_reviews                   int64\n",
      "last_review                        object\n",
      "reviews_per_month                 float64\n",
      "calculated_host_listings_count      int64\n",
      "availability_365                    int64\n",
      "dtype: object\n"
     ]
    }
   ],
   "source": [
    "a = lambda x: x.dtype\n",
    "print(df.agg(a, axis=0))"
   ]
  },
  {
   "cell_type": "markdown",
   "metadata": {},
   "source": [
    "Dựa trên các dữ liệu ở trên, ta thấy có 3 kiểu dữ liệu chính:\n",
    "- Đối với dữ liệu dạng `int64`: `id, host_id, price, minimum_nights, number_of_reviews, calculated_host_listings_count, availability_365`. Như vậy, các dữ liệu dạng số nguyên không có vấn đề gì.\n",
    "- Đối với dữ liệu dạng `float64`: `latitude, longitude, reviews_per_month`. Như vậy, dữ liệu dạng số thực cũng không có vấn đề gì.\n",
    "- Đến với dữ liệu dạng `object`: `name, host_name, neighbourhood_group, neighbourhood, room_type, last_review`. Ta thấy rằng ngoài last_review, các cột dữ liệu còn lại đều là dạng string. Ta có thể sẽ chuyển cột last_review thành dạng datetime để dễ làm việc hơn."
   ]
  },
  {
   "cell_type": "code",
   "execution_count": 6,
   "metadata": {},
   "outputs": [
    {
     "data": {
      "text/html": [
       "<div>\n",
       "<style scoped>\n",
       "    .dataframe tbody tr th:only-of-type {\n",
       "        vertical-align: middle;\n",
       "    }\n",
       "\n",
       "    .dataframe tbody tr th {\n",
       "        vertical-align: top;\n",
       "    }\n",
       "\n",
       "    .dataframe thead th {\n",
       "        text-align: right;\n",
       "    }\n",
       "</style>\n",
       "<table border=\"1\" class=\"dataframe\">\n",
       "  <thead>\n",
       "    <tr style=\"text-align: right;\">\n",
       "      <th></th>\n",
       "      <th>id</th>\n",
       "      <th>host_id</th>\n",
       "      <th>latitude</th>\n",
       "      <th>longitude</th>\n",
       "      <th>price</th>\n",
       "      <th>minimum_nights</th>\n",
       "      <th>number_of_reviews</th>\n",
       "      <th>reviews_per_month</th>\n",
       "      <th>calculated_host_listings_count</th>\n",
       "      <th>availability_365</th>\n",
       "    </tr>\n",
       "  </thead>\n",
       "  <tbody>\n",
       "    <tr>\n",
       "      <th>count</th>\n",
       "      <td>4.889500e+04</td>\n",
       "      <td>4.889500e+04</td>\n",
       "      <td>48895.000000</td>\n",
       "      <td>48895.000000</td>\n",
       "      <td>48895.000000</td>\n",
       "      <td>48895.000000</td>\n",
       "      <td>48895.000000</td>\n",
       "      <td>38843.000000</td>\n",
       "      <td>48895.000000</td>\n",
       "      <td>48895.000000</td>\n",
       "    </tr>\n",
       "    <tr>\n",
       "      <th>mean</th>\n",
       "      <td>1.901714e+07</td>\n",
       "      <td>6.762001e+07</td>\n",
       "      <td>40.728949</td>\n",
       "      <td>-73.952170</td>\n",
       "      <td>152.720687</td>\n",
       "      <td>7.029962</td>\n",
       "      <td>23.274466</td>\n",
       "      <td>1.373221</td>\n",
       "      <td>7.143982</td>\n",
       "      <td>112.781327</td>\n",
       "    </tr>\n",
       "    <tr>\n",
       "      <th>std</th>\n",
       "      <td>1.098311e+07</td>\n",
       "      <td>7.861097e+07</td>\n",
       "      <td>0.054530</td>\n",
       "      <td>0.046157</td>\n",
       "      <td>240.154170</td>\n",
       "      <td>20.510550</td>\n",
       "      <td>44.550582</td>\n",
       "      <td>1.680442</td>\n",
       "      <td>32.952519</td>\n",
       "      <td>131.622289</td>\n",
       "    </tr>\n",
       "    <tr>\n",
       "      <th>min</th>\n",
       "      <td>2.539000e+03</td>\n",
       "      <td>2.438000e+03</td>\n",
       "      <td>40.499790</td>\n",
       "      <td>-74.244420</td>\n",
       "      <td>0.000000</td>\n",
       "      <td>1.000000</td>\n",
       "      <td>0.000000</td>\n",
       "      <td>0.010000</td>\n",
       "      <td>1.000000</td>\n",
       "      <td>0.000000</td>\n",
       "    </tr>\n",
       "    <tr>\n",
       "      <th>25%</th>\n",
       "      <td>9.471945e+06</td>\n",
       "      <td>7.822033e+06</td>\n",
       "      <td>40.690100</td>\n",
       "      <td>-73.983070</td>\n",
       "      <td>69.000000</td>\n",
       "      <td>1.000000</td>\n",
       "      <td>1.000000</td>\n",
       "      <td>0.190000</td>\n",
       "      <td>1.000000</td>\n",
       "      <td>0.000000</td>\n",
       "    </tr>\n",
       "    <tr>\n",
       "      <th>50%</th>\n",
       "      <td>1.967728e+07</td>\n",
       "      <td>3.079382e+07</td>\n",
       "      <td>40.723070</td>\n",
       "      <td>-73.955680</td>\n",
       "      <td>106.000000</td>\n",
       "      <td>3.000000</td>\n",
       "      <td>5.000000</td>\n",
       "      <td>0.720000</td>\n",
       "      <td>1.000000</td>\n",
       "      <td>45.000000</td>\n",
       "    </tr>\n",
       "    <tr>\n",
       "      <th>75%</th>\n",
       "      <td>2.915218e+07</td>\n",
       "      <td>1.074344e+08</td>\n",
       "      <td>40.763115</td>\n",
       "      <td>-73.936275</td>\n",
       "      <td>175.000000</td>\n",
       "      <td>5.000000</td>\n",
       "      <td>24.000000</td>\n",
       "      <td>2.020000</td>\n",
       "      <td>2.000000</td>\n",
       "      <td>227.000000</td>\n",
       "    </tr>\n",
       "    <tr>\n",
       "      <th>max</th>\n",
       "      <td>3.648724e+07</td>\n",
       "      <td>2.743213e+08</td>\n",
       "      <td>40.913060</td>\n",
       "      <td>-73.712990</td>\n",
       "      <td>10000.000000</td>\n",
       "      <td>1250.000000</td>\n",
       "      <td>629.000000</td>\n",
       "      <td>58.500000</td>\n",
       "      <td>327.000000</td>\n",
       "      <td>365.000000</td>\n",
       "    </tr>\n",
       "  </tbody>\n",
       "</table>\n",
       "</div>"
      ],
      "text/plain": [
       "                 id       host_id      latitude     longitude         price  \\\n",
       "count  4.889500e+04  4.889500e+04  48895.000000  48895.000000  48895.000000   \n",
       "mean   1.901714e+07  6.762001e+07     40.728949    -73.952170    152.720687   \n",
       "std    1.098311e+07  7.861097e+07      0.054530      0.046157    240.154170   \n",
       "min    2.539000e+03  2.438000e+03     40.499790    -74.244420      0.000000   \n",
       "25%    9.471945e+06  7.822033e+06     40.690100    -73.983070     69.000000   \n",
       "50%    1.967728e+07  3.079382e+07     40.723070    -73.955680    106.000000   \n",
       "75%    2.915218e+07  1.074344e+08     40.763115    -73.936275    175.000000   \n",
       "max    3.648724e+07  2.743213e+08     40.913060    -73.712990  10000.000000   \n",
       "\n",
       "       minimum_nights  number_of_reviews  reviews_per_month  \\\n",
       "count    48895.000000       48895.000000       38843.000000   \n",
       "mean         7.029962          23.274466           1.373221   \n",
       "std         20.510550          44.550582           1.680442   \n",
       "min          1.000000           0.000000           0.010000   \n",
       "25%          1.000000           1.000000           0.190000   \n",
       "50%          3.000000           5.000000           0.720000   \n",
       "75%          5.000000          24.000000           2.020000   \n",
       "max       1250.000000         629.000000          58.500000   \n",
       "\n",
       "       calculated_host_listings_count  availability_365  \n",
       "count                    48895.000000      48895.000000  \n",
       "mean                         7.143982        112.781327  \n",
       "std                         32.952519        131.622289  \n",
       "min                          1.000000          0.000000  \n",
       "25%                          1.000000          0.000000  \n",
       "50%                          1.000000         45.000000  \n",
       "75%                          2.000000        227.000000  \n",
       "max                        327.000000        365.000000  "
      ]
     },
     "execution_count": 6,
     "metadata": {},
     "output_type": "execute_result"
    }
   ],
   "source": [
    "df.describe(include=[np.number])"
   ]
  },
  {
   "cell_type": "markdown",
   "metadata": {},
   "source": [
    "- Đối với các cột dữ liệu dạng số, ta sẽ cùng đi tìm hiểu:\n",
    "  - Cột `id`: giá trị nhỏ nhất là 2539 và lớn nhất là 3648724 ... không có gì bất thường. Cột này có tổng dữ liệu là 48895 dòng, trùng với số dòng ở trên nên cũng không có giá trị bị thiếu.\n",
    "  - Cột `host_id`: tương tự cột `id`, `host_id` kéo dài từ 2438 đến 27432130 và không bị thiếu dòng nào.\n",
    "  - Cột `latitude` và `longitude`: dao động trong khoảng `(40.72, -73.95)` và không bị thiếu giá trị nào. Có vẻ hợp lí bởi ta chỉ xét riêng cho NewYork, nên giá trị kinh độ và vĩ độ sẽ bị lệch khá ít.\n",
    "  - Cột `price`: nhỏ nhất là 0$ (free) và lớn nhất là 10000$. Mean là 152.72 và không bị thiếu dòng giá trị nào. Cột dữ liệu này cũng không có gì bất thường.\n",
    "  - Cột `minimum_nights`: giá trị cho thuê nhỏ nhất của một nơi ở là 1 và lớn nhất là 1250 đêm. Điều này cũng có vẻ hợp lí, bởi đối với các nơi ở cho thuê ít nhất 1 đêm, đây có thể để phục vụ du lịch. Còn đối với nơi ở cho thuê ít nhất 1250 ngày, đây có thể là một cơ sở làm việc hay một toà nhà,... Cột này cũng không có giá trị bị thiếu.\n",
    "  - Cột `number_of_reviews`: giá trị trong khoảng [0,629]. Có thể có một số nơi, lượt review là 0, và một số nơi phổ biến, lượt nhận xét là rất cao. Dữ liệu này cũng bình thường.\n",
    "  - Cột `reviews_per_month`: cột này có giá trị nhỏ nhất là 0.01 và lớn nhất là 58.5. Ta thấy rằng, cột `number_of_reviews`, có một số nơi không có đánh giá nào và cột `reviews_per_month`, giá trị nhỏ nhất là một số khác 0. Tỉ lệ của cột này cũng khá cao, nên có thể suy ra rằng có một số nơi không được đánh giá nào thì cột này sẽ để trống. Ta sẽ điền các giá trị bị thiếu ở cột này ở mục tiền xử lí.\n",
    "  - Cột `calculated_host_listings_count`, nhỏ nhất là 1 và lớn nhất là 327, số cột bị thiếu là 0. Cột này có vẻ không có gì bất thường.\n",
    "  - Cuối cùng, cột `availability_365`, giá trị nhỏ nhất là 0, lớn nhất là 365. Không có cột nào bị thiếu. Dữ liệu ở cột này cũng phù hợp với số ngày trong năm."
   ]
  },
  {
   "cell_type": "code",
   "execution_count": 7,
   "metadata": {},
   "outputs": [
    {
     "data": {
      "text/html": [
       "<div>\n",
       "<style scoped>\n",
       "    .dataframe tbody tr th:only-of-type {\n",
       "        vertical-align: middle;\n",
       "    }\n",
       "\n",
       "    .dataframe tbody tr th {\n",
       "        vertical-align: top;\n",
       "    }\n",
       "\n",
       "    .dataframe thead th {\n",
       "        text-align: right;\n",
       "    }\n",
       "</style>\n",
       "<table border=\"1\" class=\"dataframe\">\n",
       "  <thead>\n",
       "    <tr style=\"text-align: right;\">\n",
       "      <th></th>\n",
       "      <th>name</th>\n",
       "      <th>host_name</th>\n",
       "      <th>neighbourhood_group</th>\n",
       "      <th>neighbourhood</th>\n",
       "      <th>room_type</th>\n",
       "      <th>last_review</th>\n",
       "    </tr>\n",
       "  </thead>\n",
       "  <tbody>\n",
       "    <tr>\n",
       "      <th>count</th>\n",
       "      <td>48879</td>\n",
       "      <td>48874</td>\n",
       "      <td>48895</td>\n",
       "      <td>48895</td>\n",
       "      <td>48895</td>\n",
       "      <td>38843</td>\n",
       "    </tr>\n",
       "    <tr>\n",
       "      <th>unique</th>\n",
       "      <td>47905</td>\n",
       "      <td>11452</td>\n",
       "      <td>5</td>\n",
       "      <td>221</td>\n",
       "      <td>3</td>\n",
       "      <td>1764</td>\n",
       "    </tr>\n",
       "    <tr>\n",
       "      <th>top</th>\n",
       "      <td>Hillside Hotel</td>\n",
       "      <td>Michael</td>\n",
       "      <td>Manhattan</td>\n",
       "      <td>Williamsburg</td>\n",
       "      <td>Entire home/apt</td>\n",
       "      <td>2019-06-23</td>\n",
       "    </tr>\n",
       "    <tr>\n",
       "      <th>freq</th>\n",
       "      <td>18</td>\n",
       "      <td>417</td>\n",
       "      <td>21661</td>\n",
       "      <td>3920</td>\n",
       "      <td>25409</td>\n",
       "      <td>1413</td>\n",
       "    </tr>\n",
       "  </tbody>\n",
       "</table>\n",
       "</div>"
      ],
      "text/plain": [
       "                  name host_name neighbourhood_group neighbourhood  \\\n",
       "count            48879     48874               48895         48895   \n",
       "unique           47905     11452                   5           221   \n",
       "top     Hillside Hotel   Michael           Manhattan  Williamsburg   \n",
       "freq                18       417               21661          3920   \n",
       "\n",
       "              room_type last_review  \n",
       "count             48895       38843  \n",
       "unique                3        1764  \n",
       "top     Entire home/apt  2019-06-23  \n",
       "freq              25409        1413  "
      ]
     },
     "execution_count": 7,
     "metadata": {},
     "output_type": "execute_result"
    }
   ],
   "source": [
    "df.describe(include=[object])"
   ]
  },
  {
   "cell_type": "markdown",
   "metadata": {},
   "source": [
    "Cuối cùng, đối với các cột dữ liệu dạng chữ:\n",
    "- Đối với cột `name`: Cột này bị thiếu 6 giá trị, có 47905 giá trị khác nhau, và có tới 18 tên Hillside Hotel. Bởi vì không có dòng nào bị lặp, nên đây có thể là một điểm bất thường.\n",
    "- Cột `host_name`: có 11452 giá trị khác nhau và thiếu 11 giá trị. Host sở hữu nhiều nơi ở nhất là Michael, với 417 nơi ở. Có một số giá trị bị thiếu, đây có thể là do nơi ở đó không của host nào? Điều này khá bất hợp lí.\n",
    "- Cột `neighborhood_group`: bộ dữ liệu chỉ xét trên 5 quận của New York, với Mahattan là quận có nhiều nơi ở nhất. Cột này cũng không có giá trị bị thiếu, và là cột khá bình thường.\n",
    "- Cột `neighborhood`: cột này cũng không có giá trị bị thiếu và Williamsburg là phường có nhiều nơi ở nhất, với 3920 nơi ở.\n",
    "- Cột `room_type`: không có giá trị bị thiếu, và cột này có 3 giá trị phân biệt. Điều này cũng không có gì bất thường.\n",
    "- Và cuối cùng, cột `last_review`, số cột bị thiếu là khá cao và có 1764 giá trị phân biệt. Điều này khá hợp lí, bởi có thể một nơi ở nếu để lâu thì các giá trị này sẽ rải đều ra các năm, không chỉ riêng năm 2019. Cột last_review này cũng khá giống cột `reviews_per_month`, nên 2 cột này có gì đó liên quan đến nhau..."
   ]
  },
  {
   "cell_type": "code",
   "execution_count": 8,
   "metadata": {},
   "outputs": [
    {
     "data": {
      "text/html": [
       "<div>\n",
       "<style scoped>\n",
       "    .dataframe tbody tr th:only-of-type {\n",
       "        vertical-align: middle;\n",
       "    }\n",
       "\n",
       "    .dataframe tbody tr th {\n",
       "        vertical-align: top;\n",
       "    }\n",
       "\n",
       "    .dataframe thead th {\n",
       "        text-align: right;\n",
       "    }\n",
       "</style>\n",
       "<table border=\"1\" class=\"dataframe\">\n",
       "  <thead>\n",
       "    <tr style=\"text-align: right;\">\n",
       "      <th></th>\n",
       "      <th>id</th>\n",
       "      <th>name</th>\n",
       "      <th>host_id</th>\n",
       "      <th>host_name</th>\n",
       "      <th>neighbourhood_group</th>\n",
       "      <th>neighbourhood</th>\n",
       "      <th>latitude</th>\n",
       "      <th>longitude</th>\n",
       "      <th>room_type</th>\n",
       "      <th>price</th>\n",
       "      <th>minimum_nights</th>\n",
       "      <th>number_of_reviews</th>\n",
       "      <th>last_review</th>\n",
       "      <th>reviews_per_month</th>\n",
       "      <th>calculated_host_listings_count</th>\n",
       "      <th>availability_365</th>\n",
       "    </tr>\n",
       "  </thead>\n",
       "  <tbody>\n",
       "    <tr>\n",
       "      <th>24152</th>\n",
       "      <td>19456810</td>\n",
       "      <td>Hillside Hotel</td>\n",
       "      <td>134184451</td>\n",
       "      <td>Hillside Hotel</td>\n",
       "      <td>Queens</td>\n",
       "      <td>Briarwood</td>\n",
       "      <td>40.70454</td>\n",
       "      <td>-73.81549</td>\n",
       "      <td>Private room</td>\n",
       "      <td>93</td>\n",
       "      <td>1</td>\n",
       "      <td>2</td>\n",
       "      <td>2017-07-23</td>\n",
       "      <td>0.08</td>\n",
       "      <td>18</td>\n",
       "      <td>90</td>\n",
       "    </tr>\n",
       "    <tr>\n",
       "      <th>24607</th>\n",
       "      <td>19785737</td>\n",
       "      <td>Hillside Hotel</td>\n",
       "      <td>134184451</td>\n",
       "      <td>Hillside Hotel</td>\n",
       "      <td>Queens</td>\n",
       "      <td>Jamaica</td>\n",
       "      <td>40.70445</td>\n",
       "      <td>-73.81399</td>\n",
       "      <td>Private room</td>\n",
       "      <td>135</td>\n",
       "      <td>1</td>\n",
       "      <td>1</td>\n",
       "      <td>2017-10-08</td>\n",
       "      <td>0.05</td>\n",
       "      <td>18</td>\n",
       "      <td>180</td>\n",
       "    </tr>\n",
       "    <tr>\n",
       "      <th>26734</th>\n",
       "      <td>21231543</td>\n",
       "      <td>Hillside Hotel</td>\n",
       "      <td>134184451</td>\n",
       "      <td>Hillside Hotel</td>\n",
       "      <td>Queens</td>\n",
       "      <td>Jamaica</td>\n",
       "      <td>40.70428</td>\n",
       "      <td>-73.81353</td>\n",
       "      <td>Private room</td>\n",
       "      <td>135</td>\n",
       "      <td>1</td>\n",
       "      <td>0</td>\n",
       "      <td>NaN</td>\n",
       "      <td>NaN</td>\n",
       "      <td>18</td>\n",
       "      <td>365</td>\n",
       "    </tr>\n",
       "    <tr>\n",
       "      <th>26752</th>\n",
       "      <td>21243952</td>\n",
       "      <td>Hillside Hotel</td>\n",
       "      <td>134184451</td>\n",
       "      <td>Hillside Hotel</td>\n",
       "      <td>Queens</td>\n",
       "      <td>Jamaica</td>\n",
       "      <td>40.70288</td>\n",
       "      <td>-73.81531</td>\n",
       "      <td>Private room</td>\n",
       "      <td>135</td>\n",
       "      <td>1</td>\n",
       "      <td>1</td>\n",
       "      <td>2018-01-02</td>\n",
       "      <td>0.05</td>\n",
       "      <td>18</td>\n",
       "      <td>365</td>\n",
       "    </tr>\n",
       "    <tr>\n",
       "      <th>26753</th>\n",
       "      <td>21244035</td>\n",
       "      <td>Hillside Hotel</td>\n",
       "      <td>134184451</td>\n",
       "      <td>Hillside Hotel</td>\n",
       "      <td>Queens</td>\n",
       "      <td>Jamaica</td>\n",
       "      <td>40.70319</td>\n",
       "      <td>-73.81410</td>\n",
       "      <td>Private room</td>\n",
       "      <td>135</td>\n",
       "      <td>1</td>\n",
       "      <td>2</td>\n",
       "      <td>2018-06-10</td>\n",
       "      <td>0.09</td>\n",
       "      <td>18</td>\n",
       "      <td>365</td>\n",
       "    </tr>\n",
       "    <tr>\n",
       "      <th>26889</th>\n",
       "      <td>21311903</td>\n",
       "      <td>Hillside Hotel</td>\n",
       "      <td>134184451</td>\n",
       "      <td>Hillside Hotel</td>\n",
       "      <td>Queens</td>\n",
       "      <td>Jamaica</td>\n",
       "      <td>40.70258</td>\n",
       "      <td>-73.81510</td>\n",
       "      <td>Private room</td>\n",
       "      <td>135</td>\n",
       "      <td>1</td>\n",
       "      <td>0</td>\n",
       "      <td>NaN</td>\n",
       "      <td>NaN</td>\n",
       "      <td>18</td>\n",
       "      <td>365</td>\n",
       "    </tr>\n",
       "    <tr>\n",
       "      <th>26891</th>\n",
       "      <td>21312075</td>\n",
       "      <td>Hillside Hotel</td>\n",
       "      <td>134184451</td>\n",
       "      <td>Hillside Hotel</td>\n",
       "      <td>Queens</td>\n",
       "      <td>Jamaica</td>\n",
       "      <td>40.70333</td>\n",
       "      <td>-73.81380</td>\n",
       "      <td>Private room</td>\n",
       "      <td>135</td>\n",
       "      <td>1</td>\n",
       "      <td>0</td>\n",
       "      <td>NaN</td>\n",
       "      <td>NaN</td>\n",
       "      <td>18</td>\n",
       "      <td>365</td>\n",
       "    </tr>\n",
       "    <tr>\n",
       "      <th>26892</th>\n",
       "      <td>21312191</td>\n",
       "      <td>Hillside Hotel</td>\n",
       "      <td>134184451</td>\n",
       "      <td>Hillside Hotel</td>\n",
       "      <td>Queens</td>\n",
       "      <td>Jamaica</td>\n",
       "      <td>40.70259</td>\n",
       "      <td>-73.81415</td>\n",
       "      <td>Private room</td>\n",
       "      <td>135</td>\n",
       "      <td>1</td>\n",
       "      <td>0</td>\n",
       "      <td>NaN</td>\n",
       "      <td>NaN</td>\n",
       "      <td>18</td>\n",
       "      <td>365</td>\n",
       "    </tr>\n",
       "    <tr>\n",
       "      <th>26893</th>\n",
       "      <td>21312225</td>\n",
       "      <td>Hillside Hotel</td>\n",
       "      <td>134184451</td>\n",
       "      <td>Hillside Hotel</td>\n",
       "      <td>Queens</td>\n",
       "      <td>Jamaica</td>\n",
       "      <td>40.70262</td>\n",
       "      <td>-73.81526</td>\n",
       "      <td>Private room</td>\n",
       "      <td>135</td>\n",
       "      <td>1</td>\n",
       "      <td>1</td>\n",
       "      <td>2017-12-10</td>\n",
       "      <td>0.05</td>\n",
       "      <td>18</td>\n",
       "      <td>365</td>\n",
       "    </tr>\n",
       "    <tr>\n",
       "      <th>26894</th>\n",
       "      <td>21312283</td>\n",
       "      <td>Hillside Hotel</td>\n",
       "      <td>134184451</td>\n",
       "      <td>Hillside Hotel</td>\n",
       "      <td>Queens</td>\n",
       "      <td>Briarwood</td>\n",
       "      <td>40.70450</td>\n",
       "      <td>-73.81447</td>\n",
       "      <td>Private room</td>\n",
       "      <td>135</td>\n",
       "      <td>1</td>\n",
       "      <td>0</td>\n",
       "      <td>NaN</td>\n",
       "      <td>NaN</td>\n",
       "      <td>18</td>\n",
       "      <td>355</td>\n",
       "    </tr>\n",
       "    <tr>\n",
       "      <th>26895</th>\n",
       "      <td>21312330</td>\n",
       "      <td>Hillside Hotel</td>\n",
       "      <td>134184451</td>\n",
       "      <td>Hillside Hotel</td>\n",
       "      <td>Queens</td>\n",
       "      <td>Briarwood</td>\n",
       "      <td>40.70458</td>\n",
       "      <td>-73.81418</td>\n",
       "      <td>Private room</td>\n",
       "      <td>135</td>\n",
       "      <td>1</td>\n",
       "      <td>0</td>\n",
       "      <td>NaN</td>\n",
       "      <td>NaN</td>\n",
       "      <td>18</td>\n",
       "      <td>355</td>\n",
       "    </tr>\n",
       "    <tr>\n",
       "      <th>26896</th>\n",
       "      <td>21312403</td>\n",
       "      <td>Hillside Hotel</td>\n",
       "      <td>134184451</td>\n",
       "      <td>Hillside Hotel</td>\n",
       "      <td>Queens</td>\n",
       "      <td>Jamaica</td>\n",
       "      <td>40.70423</td>\n",
       "      <td>-73.81440</td>\n",
       "      <td>Private room</td>\n",
       "      <td>165</td>\n",
       "      <td>1</td>\n",
       "      <td>0</td>\n",
       "      <td>NaN</td>\n",
       "      <td>NaN</td>\n",
       "      <td>18</td>\n",
       "      <td>362</td>\n",
       "    </tr>\n",
       "    <tr>\n",
       "      <th>26897</th>\n",
       "      <td>21312440</td>\n",
       "      <td>Hillside Hotel</td>\n",
       "      <td>134184451</td>\n",
       "      <td>Hillside Hotel</td>\n",
       "      <td>Queens</td>\n",
       "      <td>Jamaica</td>\n",
       "      <td>40.70269</td>\n",
       "      <td>-73.81585</td>\n",
       "      <td>Private room</td>\n",
       "      <td>165</td>\n",
       "      <td>1</td>\n",
       "      <td>0</td>\n",
       "      <td>NaN</td>\n",
       "      <td>NaN</td>\n",
       "      <td>18</td>\n",
       "      <td>360</td>\n",
       "    </tr>\n",
       "    <tr>\n",
       "      <th>26898</th>\n",
       "      <td>21312495</td>\n",
       "      <td>Hillside Hotel</td>\n",
       "      <td>134184451</td>\n",
       "      <td>Hillside Hotel</td>\n",
       "      <td>Queens</td>\n",
       "      <td>Jamaica</td>\n",
       "      <td>40.70426</td>\n",
       "      <td>-73.81509</td>\n",
       "      <td>Private room</td>\n",
       "      <td>165</td>\n",
       "      <td>1</td>\n",
       "      <td>0</td>\n",
       "      <td>NaN</td>\n",
       "      <td>NaN</td>\n",
       "      <td>18</td>\n",
       "      <td>362</td>\n",
       "    </tr>\n",
       "    <tr>\n",
       "      <th>26899</th>\n",
       "      <td>21312549</td>\n",
       "      <td>Hillside Hotel</td>\n",
       "      <td>134184451</td>\n",
       "      <td>Hillside Hotel</td>\n",
       "      <td>Queens</td>\n",
       "      <td>Jamaica</td>\n",
       "      <td>40.70262</td>\n",
       "      <td>-73.81579</td>\n",
       "      <td>Private room</td>\n",
       "      <td>165</td>\n",
       "      <td>1</td>\n",
       "      <td>0</td>\n",
       "      <td>NaN</td>\n",
       "      <td>NaN</td>\n",
       "      <td>18</td>\n",
       "      <td>355</td>\n",
       "    </tr>\n",
       "    <tr>\n",
       "      <th>26900</th>\n",
       "      <td>21312595</td>\n",
       "      <td>Hillside Hotel</td>\n",
       "      <td>134184451</td>\n",
       "      <td>Hillside Hotel</td>\n",
       "      <td>Queens</td>\n",
       "      <td>Briarwood</td>\n",
       "      <td>40.70475</td>\n",
       "      <td>-73.81572</td>\n",
       "      <td>Private room</td>\n",
       "      <td>165</td>\n",
       "      <td>1</td>\n",
       "      <td>2</td>\n",
       "      <td>2018-01-01</td>\n",
       "      <td>0.09</td>\n",
       "      <td>18</td>\n",
       "      <td>355</td>\n",
       "    </tr>\n",
       "    <tr>\n",
       "      <th>26901</th>\n",
       "      <td>21312687</td>\n",
       "      <td>Hillside Hotel</td>\n",
       "      <td>134184451</td>\n",
       "      <td>Hillside Hotel</td>\n",
       "      <td>Queens</td>\n",
       "      <td>Briarwood</td>\n",
       "      <td>40.70471</td>\n",
       "      <td>-73.81542</td>\n",
       "      <td>Private room</td>\n",
       "      <td>135</td>\n",
       "      <td>1</td>\n",
       "      <td>3</td>\n",
       "      <td>2018-01-01</td>\n",
       "      <td>0.15</td>\n",
       "      <td>18</td>\n",
       "      <td>319</td>\n",
       "    </tr>\n",
       "    <tr>\n",
       "      <th>26902</th>\n",
       "      <td>21312732</td>\n",
       "      <td>Hillside Hotel</td>\n",
       "      <td>134184451</td>\n",
       "      <td>Hillside Hotel</td>\n",
       "      <td>Queens</td>\n",
       "      <td>Briarwood</td>\n",
       "      <td>40.70455</td>\n",
       "      <td>-73.81528</td>\n",
       "      <td>Private room</td>\n",
       "      <td>135</td>\n",
       "      <td>1</td>\n",
       "      <td>0</td>\n",
       "      <td>NaN</td>\n",
       "      <td>NaN</td>\n",
       "      <td>18</td>\n",
       "      <td>309</td>\n",
       "    </tr>\n",
       "  </tbody>\n",
       "</table>\n",
       "</div>"
      ],
      "text/plain": [
       "             id            name    host_id       host_name  \\\n",
       "24152  19456810  Hillside Hotel  134184451  Hillside Hotel   \n",
       "24607  19785737  Hillside Hotel  134184451  Hillside Hotel   \n",
       "26734  21231543  Hillside Hotel  134184451  Hillside Hotel   \n",
       "26752  21243952  Hillside Hotel  134184451  Hillside Hotel   \n",
       "26753  21244035  Hillside Hotel  134184451  Hillside Hotel   \n",
       "26889  21311903  Hillside Hotel  134184451  Hillside Hotel   \n",
       "26891  21312075  Hillside Hotel  134184451  Hillside Hotel   \n",
       "26892  21312191  Hillside Hotel  134184451  Hillside Hotel   \n",
       "26893  21312225  Hillside Hotel  134184451  Hillside Hotel   \n",
       "26894  21312283  Hillside Hotel  134184451  Hillside Hotel   \n",
       "26895  21312330  Hillside Hotel  134184451  Hillside Hotel   \n",
       "26896  21312403  Hillside Hotel  134184451  Hillside Hotel   \n",
       "26897  21312440  Hillside Hotel  134184451  Hillside Hotel   \n",
       "26898  21312495  Hillside Hotel  134184451  Hillside Hotel   \n",
       "26899  21312549  Hillside Hotel  134184451  Hillside Hotel   \n",
       "26900  21312595  Hillside Hotel  134184451  Hillside Hotel   \n",
       "26901  21312687  Hillside Hotel  134184451  Hillside Hotel   \n",
       "26902  21312732  Hillside Hotel  134184451  Hillside Hotel   \n",
       "\n",
       "      neighbourhood_group neighbourhood  latitude  longitude     room_type  \\\n",
       "24152              Queens     Briarwood  40.70454  -73.81549  Private room   \n",
       "24607              Queens       Jamaica  40.70445  -73.81399  Private room   \n",
       "26734              Queens       Jamaica  40.70428  -73.81353  Private room   \n",
       "26752              Queens       Jamaica  40.70288  -73.81531  Private room   \n",
       "26753              Queens       Jamaica  40.70319  -73.81410  Private room   \n",
       "26889              Queens       Jamaica  40.70258  -73.81510  Private room   \n",
       "26891              Queens       Jamaica  40.70333  -73.81380  Private room   \n",
       "26892              Queens       Jamaica  40.70259  -73.81415  Private room   \n",
       "26893              Queens       Jamaica  40.70262  -73.81526  Private room   \n",
       "26894              Queens     Briarwood  40.70450  -73.81447  Private room   \n",
       "26895              Queens     Briarwood  40.70458  -73.81418  Private room   \n",
       "26896              Queens       Jamaica  40.70423  -73.81440  Private room   \n",
       "26897              Queens       Jamaica  40.70269  -73.81585  Private room   \n",
       "26898              Queens       Jamaica  40.70426  -73.81509  Private room   \n",
       "26899              Queens       Jamaica  40.70262  -73.81579  Private room   \n",
       "26900              Queens     Briarwood  40.70475  -73.81572  Private room   \n",
       "26901              Queens     Briarwood  40.70471  -73.81542  Private room   \n",
       "26902              Queens     Briarwood  40.70455  -73.81528  Private room   \n",
       "\n",
       "       price  minimum_nights  number_of_reviews last_review  \\\n",
       "24152     93               1                  2  2017-07-23   \n",
       "24607    135               1                  1  2017-10-08   \n",
       "26734    135               1                  0         NaN   \n",
       "26752    135               1                  1  2018-01-02   \n",
       "26753    135               1                  2  2018-06-10   \n",
       "26889    135               1                  0         NaN   \n",
       "26891    135               1                  0         NaN   \n",
       "26892    135               1                  0         NaN   \n",
       "26893    135               1                  1  2017-12-10   \n",
       "26894    135               1                  0         NaN   \n",
       "26895    135               1                  0         NaN   \n",
       "26896    165               1                  0         NaN   \n",
       "26897    165               1                  0         NaN   \n",
       "26898    165               1                  0         NaN   \n",
       "26899    165               1                  0         NaN   \n",
       "26900    165               1                  2  2018-01-01   \n",
       "26901    135               1                  3  2018-01-01   \n",
       "26902    135               1                  0         NaN   \n",
       "\n",
       "       reviews_per_month  calculated_host_listings_count  availability_365  \n",
       "24152               0.08                              18                90  \n",
       "24607               0.05                              18               180  \n",
       "26734                NaN                              18               365  \n",
       "26752               0.05                              18               365  \n",
       "26753               0.09                              18               365  \n",
       "26889                NaN                              18               365  \n",
       "26891                NaN                              18               365  \n",
       "26892                NaN                              18               365  \n",
       "26893               0.05                              18               365  \n",
       "26894                NaN                              18               355  \n",
       "26895                NaN                              18               355  \n",
       "26896                NaN                              18               362  \n",
       "26897                NaN                              18               360  \n",
       "26898                NaN                              18               362  \n",
       "26899                NaN                              18               355  \n",
       "26900               0.09                              18               355  \n",
       "26901               0.15                              18               319  \n",
       "26902                NaN                              18               309  "
      ]
     },
     "execution_count": 8,
     "metadata": {},
     "output_type": "execute_result"
    }
   ],
   "source": [
    "unq, count = np.unique(df['id'], return_counts=True)\n",
    "df.loc[df['name'] == 'Hillside Hotel']"
   ]
  },
  {
   "cell_type": "markdown",
   "metadata": {},
   "source": [
    "# III. ĐẶT RA CÁC CÂU HỎI HỮU ÍCH"
   ]
  },
  {
   "cell_type": "markdown",
   "metadata": {},
   "source": [
    "Sau khi ta đã khám phá và có những hiểu biết sơ lược về dữ liệu, tiếp theo ta sẽ đặt ra các câu hỏi nhằm mục đích phân tích, tìm tòi các thông tin hữu ích mà ta có thể tận dụng trong các công việc kinh doanh:\n",
    "- Giá nhà trung bình ở các khu dân cư ở thành phố New York có sự chênh lệch theo thời gian như thế nào ?\n",
    "- Với từng loại phòng, ta nên chọn khu vực nào để thuê?\n",
    "- Trong năm 2019, thì top 10 chủ nhà nào ở New York `được phản hồi nhiều nhất`?\n",
    "- Giả sử ta có chuyến công tác trong vòng 10 ngày ở thành phố New York, thì ta nên chọn nhà của host nào là lợi cho mình nhất?"
   ]
  },
  {
   "cell_type": "markdown",
   "metadata": {},
   "source": [
    "# IV. TIỀN XỬ LÝ DỮ LIỆU"
   ]
  },
  {
   "cell_type": "markdown",
   "metadata": {},
   "source": [
    "### Chuyển đổi dtype cho cột last review"
   ]
  },
  {
   "cell_type": "code",
   "execution_count": 9,
   "metadata": {},
   "outputs": [],
   "source": [
    "df['last_review'] = pd.to_datetime(df['last_review'])"
   ]
  },
  {
   "cell_type": "code",
   "execution_count": 10,
   "metadata": {},
   "outputs": [
    {
     "data": {
      "text/plain": [
       "0       2018-10-19\n",
       "1       2019-05-21\n",
       "2              NaT\n",
       "3       2019-07-05\n",
       "4       2018-11-19\n",
       "           ...    \n",
       "48890          NaT\n",
       "48891          NaT\n",
       "48892          NaT\n",
       "48893          NaT\n",
       "48894          NaT\n",
       "Name: last_review, Length: 48895, dtype: datetime64[ns]"
      ]
     },
     "execution_count": 10,
     "metadata": {},
     "output_type": "execute_result"
    }
   ],
   "source": [
    "df['last_review']"
   ]
  },
  {
   "cell_type": "markdown",
   "metadata": {},
   "source": [
    "Dựa vào phần khám phá dữ liệu, ta thấy rằng tồn tại những khác sạn có trùng tên và có vị trí ở các neigborhood khác nhau. Chính điều này sẽ gây ra việc trùng lặp.\n",
    "Hơn nữa, có những mẫu, mặc dù cùng mô tả về cùng 1 địa điểm nhưng lại tồn tại nhiều lần. Thế nên, ta cần xử lí trùng lắp."
   ]
  },
  {
   "cell_type": "markdown",
   "metadata": {},
   "source": [
    "Trước hết, ta sẽ lấy các mẫu có cùng tên để xem xét."
   ]
  },
  {
   "cell_type": "code",
   "execution_count": 11,
   "metadata": {},
   "outputs": [
    {
     "data": {
      "text/plain": [
       "Hillside Hotel                       18\n",
       "Home away from home                  17\n",
       "New york Multi-unit building         16\n",
       "Brooklyn Apartment                   12\n",
       "Private Room                         11\n",
       "                                     ..\n",
       "Your Home Away from Home              2\n",
       "Queen Room                            2\n",
       "Beautiful apartment in Greenpoint     2\n",
       "Cozy Loft Apartment in Bushwick       2\n",
       "Hamilton Heights Gem                  2\n",
       "Name: name, Length: 645, dtype: int64"
      ]
     },
     "execution_count": 11,
     "metadata": {},
     "output_type": "execute_result"
    }
   ],
   "source": [
    "duplicated_name = df['name'].value_counts().loc[lambda x: x>1]\n",
    "duplicated_name"
   ]
  },
  {
   "cell_type": "markdown",
   "metadata": {},
   "source": [
    "Ta sẽ xóa các mẫu dựa có cùng tên, cùng neighbourhood và neighbourhood_group."
   ]
  },
  {
   "cell_type": "code",
   "execution_count": 12,
   "metadata": {},
   "outputs": [],
   "source": [
    "df= df.drop_duplicates(subset=['name','neighbourhood','neighbourhood_group'])"
   ]
  },
  {
   "cell_type": "markdown",
   "metadata": {},
   "source": [
    "### XỬ LÝ CÁC CỘT BỊ THIẾU DỮ LIỆU"
   ]
  },
  {
   "cell_type": "code",
   "execution_count": 13,
   "metadata": {},
   "outputs": [
    {
     "name": "stdout",
     "output_type": "stream",
     "text": [
      "<class 'pandas.core.frame.DataFrame'>\n",
      "Int64Index: 48299 entries, 0 to 48894\n",
      "Data columns (total 16 columns):\n",
      " #   Column                          Non-Null Count  Dtype         \n",
      "---  ------                          --------------  -----         \n",
      " 0   id                              48299 non-null  int64         \n",
      " 1   name                            48285 non-null  object        \n",
      " 2   host_id                         48299 non-null  int64         \n",
      " 3   host_name                       48278 non-null  object        \n",
      " 4   neighbourhood_group             48299 non-null  object        \n",
      " 5   neighbourhood                   48299 non-null  object        \n",
      " 6   latitude                        48299 non-null  float64       \n",
      " 7   longitude                       48299 non-null  float64       \n",
      " 8   room_type                       48299 non-null  object        \n",
      " 9   price                           48299 non-null  int64         \n",
      " 10  minimum_nights                  48299 non-null  int64         \n",
      " 11  number_of_reviews               48299 non-null  int64         \n",
      " 12  last_review                     38458 non-null  datetime64[ns]\n",
      " 13  reviews_per_month               38458 non-null  float64       \n",
      " 14  calculated_host_listings_count  48299 non-null  int64         \n",
      " 15  availability_365                48299 non-null  int64         \n",
      "dtypes: datetime64[ns](1), float64(3), int64(7), object(5)\n",
      "memory usage: 6.3+ MB\n"
     ]
    }
   ],
   "source": [
    "df.info()"
   ]
  },
  {
   "cell_type": "markdown",
   "metadata": {},
   "source": [
    "Đối với cột name, như đã thấy ở phần khám phá dữ liệu, dữ liệu tồn tại các mẫu không có tên cho địa điểm, điều này cũng không có gì quá bất thường, và đối với các mẫu này ta không cần thiết phải lấp vào. Bởi lẽ, việc làm đầy dữ liệu cột này là không hiệu quả."
   ]
  },
  {
   "cell_type": "markdown",
   "metadata": {},
   "source": [
    "Đối với cột `host_name`, ta có điền dữ liệu dựa trên các mẫu có cùng host_id, tuy nhiên khi kiểm tra sơ lược thì ta thấy các host_id này chỉ xuất hiện 1 lần, thế nên việc điền dữ liệu thiếu này cũng không khả thi."
   ]
  },
  {
   "cell_type": "code",
   "execution_count": 14,
   "metadata": {},
   "outputs": [],
   "source": [
    "df['host_name']= df.groupby(['host_id'])['host_name'].ffill()\n",
    "df['host_name'].count()\n",
    "df = df.dropna(subset=['host_name'])"
   ]
  },
  {
   "cell_type": "markdown",
   "metadata": {},
   "source": [
    "Đối với cột `last_review`, dữ liệu cột này cần tính xác thực, thế nên ta không cần phải làm đầy. Cuối cùng là cột `reviews_per_month`, ta sẽ điền giá trị 0 cho các mẫu bị thiếu."
   ]
  },
  {
   "cell_type": "code",
   "execution_count": 15,
   "metadata": {},
   "outputs": [],
   "source": [
    "df['reviews_per_month'] = df['reviews_per_month'].fillna(0)"
   ]
  },
  {
   "cell_type": "markdown",
   "metadata": {},
   "source": [
    "# V. TRẢ LỜI CÁC CÂU HỎI"
   ]
  },
  {
   "cell_type": "markdown",
   "metadata": {},
   "source": [
    "### **Giá nhà trung bình ở các khu dân cư ở thành phố New York có sự chênh lệch theo thời gian như thế nào ?**"
   ]
  },
  {
   "cell_type": "markdown",
   "metadata": {},
   "source": [
    "Để trả lời cho câu hỏi này, ta sẽ thực hiện các bước như sau:"
   ]
  },
  {
   "cell_type": "markdown",
   "metadata": {},
   "source": [
    "- Bước 1: Ta sẽ lấy dữ liệu của cột `neigbourhood_group`,`year` tách từ `last_review` và `price` từ dataframe ban đầu. Từ dữ liệu này, sẽ sẽ gom theo và tính trung bình theo từng khu vực.\n",
    "- Bước 2: Khi có được kết quả, ta sẽ biểu đồ cột để trực quan hóa, với trục hoành là các khu vực, trục tung là giá trung bình."
   ]
  },
  {
   "cell_type": "code",
   "execution_count": 16,
   "metadata": {},
   "outputs": [],
   "source": [
    "price_by_neighbour = df[['neighbourhood_group','price','last_review']]\n",
    "price_by_neighbour = price_by_neighbour.groupby([price_by_neighbour['neighbourhood_group'],price_by_neighbour['last_review'].dt.year]).agg(np.mean)\n",
    "price_by_neighbour =price_by_neighbour.reset_index()\n",
    "price_by_neighbour.columns =['neighbourhood_group','year','price']\n",
    "\n",
    "Bronx = price_by_neighbour[price_by_neighbour['neighbourhood_group']=='Bronx']\n",
    "Brooklyn = price_by_neighbour[price_by_neighbour['neighbourhood_group']=='Brooklyn']\n",
    "Manhattan = price_by_neighbour[price_by_neighbour['neighbourhood_group']=='Manhattan']\n",
    "Queens = price_by_neighbour[price_by_neighbour['neighbourhood_group']=='Queens']\n",
    "Staten_Island = price_by_neighbour[price_by_neighbour['neighbourhood_group']=='Staten Island']"
   ]
  },
  {
   "cell_type": "markdown",
   "metadata": {},
   "source": [
    "Code bước 2"
   ]
  },
  {
   "cell_type": "code",
   "execution_count": 17,
   "metadata": {},
   "outputs": [
    {
     "data": {
      "text/plain": [
       "Text(0, 0.5, 'Price')"
      ]
     },
     "execution_count": 17,
     "metadata": {},
     "output_type": "execute_result"
    },
    {
     "data": {
      "image/png": "[encoded data removed]",
      "text/plain": [
       "<Figure size 432x288 with 1 Axes>"
      ]
     },
     "metadata": {
      "needs_background": "light"
     },
     "output_type": "display_data"
    }
   ],
   "source": [
    "plt.plot(Bronx['year'],Bronx['price'])\n",
    "plt.plot(Brooklyn['year'],Brooklyn['price'])\n",
    "plt.plot(Manhattan['year'],Manhattan['price'])\n",
    "plt.plot(Queens['year'],Queens['price'])\n",
    "plt.plot(Staten_Island['year'],Staten_Island['price'])\n",
    "plt.legend(['Bronx','Brooklyn','Manhattan','Queens','Staten Island'])\n",
    "plt.xlabel(\"Year\")\n",
    "plt.ylabel('Price')"
   ]
  },
  {
   "cell_type": "markdown",
   "metadata": {},
   "source": [
    "> Kết luận: Nhìn từ biểu đồ trên, ta không nhận thấy có xu hướng cụ thể nào. Tuy nhiên, có thể thấy được sự chênh lệch rõ ràng giữa giá của các khu vực với nhau: Khu vực Manhattan có mức giá cho thuê cao hơn nhiều so với các khu vực khác, khu vực Bronx và Staten Island có mức giá nhìn chung là thấp hơn so với các quận khác."
   ]
  },
  {
   "cell_type": "markdown",
   "metadata": {},
   "source": [
    "### **Trong năm 2019, thì top 10 chủ nhà nào ở New York `được phản hồi nhiều nhất`?**"
   ]
  },
  {
   "cell_type": "markdown",
   "metadata": {},
   "source": [
    "Để trả lời câu hỏi trên, ta cần phân tích những ý sau đây:\n",
    "- Bước 1: Trước hết, `được phản hồi` ở đây nghĩa là **có sự phản hồi từ khách hàng**. Ta sẽ sử dụng các thuộc tính review_per_months, host_id, host của năm 2019 để có thể tính tổng review theo từng host.\n",
    "- Bước 2: Sau khi có dữ liệu ta sữ dụng biểu đồ cột ngang để trực quan hóa. "
   ]
  },
  {
   "cell_type": "code",
   "execution_count": 18,
   "metadata": {},
   "outputs": [],
   "source": [
    "busy_host = df[df['last_review'].dt.year == 2019]\n",
    "busy_host = busy_host[['host_id','host_name','reviews_per_month']]\n",
    "busy_host = busy_host.groupby(['host_id','host_name']).agg(sum)\n",
    "busy_host = busy_host.reset_index()\n",
    "busy_host = busy_host.sort_values(by='reviews_per_month',ascending=False)[:10]"
   ]
  },
  {
   "cell_type": "markdown",
   "metadata": {},
   "source": [
    "Code bước 2"
   ]
  },
  {
   "cell_type": "code",
   "execution_count": 19,
   "metadata": {},
   "outputs": [
    {
     "data": {
      "text/plain": [
       "Text(0.5, 0, 'Reviews_per_month')"
      ]
     },
     "execution_count": 19,
     "metadata": {},
     "output_type": "execute_result"
    },
    {
     "data": {
      "image/png": "[encoded data removed]",
      "text/plain": [
       "<Figure size 432x288 with 1 Axes>"
      ]
     },
     "metadata": {
      "needs_background": "light"
     },
     "output_type": "display_data"
    }
   ],
   "source": [
    "plt.barh(busy_host['host_name'],busy_host['reviews_per_month'])\n",
    "plt.xlabel(\"Reviews_per_month\")"
   ]
  },
  {
   "cell_type": "markdown",
   "metadata": {},
   "source": [
    "> Kết luận: Tổng quát từ biểu đồ cho thấy các host đều có tổng lượt phản hồi lớn hơn 50, và Sonder (NYC) là host có lượt tương tác của khách hàng nhiều nhất gần 400 lượt."
   ]
  },
  {
   "cell_type": "markdown",
   "metadata": {},
   "source": [
    "# VI. PHẢN HỒI"
   ]
  },
  {
   "cell_type": "markdown",
   "metadata": {},
   "source": [
    "#### Khó khăn:\n",
    "- Cá nhân:\n",
    "- Nhóm: do thời gian thực hiện đồ án trùng khớp với thời gian thi cuối kì nên nhóm không thể tập trung 100% thực hiện đồ án được\n",
    "#### Nếu có thêm thời gian:\n",
    "Nếu có nhiều thời gian hơn, nhóm chúng mình có thể áp dụng các mô hình học máy để  dự đoán giá nhà. Hơn nữa, về mặt trực quan thì nhóm mình sẽ trực quan hóa dựa trên bản đồ thành phố New York."
   ]
  },
  {
   "cell_type": "markdown",
   "metadata": {},
   "source": [
    "# VII. TÀI LIỆU THAM KHẢO"
   ]
  },
  {
   "cell_type": "markdown",
   "metadata": {},
   "source": [
    "- [NYC Airbnb](https://www.kaggle.com/shashankk5/how-airbnb-can-attract-tourists-in-nyc/notebook?fbclid=IwAR1P9DxvpocMPB-_SPYE_9Nj_smMDijTgaAomEyjhTlm2QdA5kZK-XUuuVA#1:-Ask)  \n",
    "- [Matplotlib](https://matplotlib.org/stable/index.html)\n",
    "- [Seaborn](https://seaborn.pydata.org/)\n",
    "- [Pandas](https://pandas.pydata.org/docs/index.html)"
   ]
  }
 ],
 "metadata": {
  "interpreter": {
   "hash": "be75483425e66f820f59c38eb1d63a6cd68bdb5a0bf4e45e9a520a07c6f3952b"
  },
  "kernelspec": {
   "display_name": "Python 3.8.8 64-bit ('min_ds-env': conda)",
   "language": "python",
   "name": "python3"
  },
  "language_info": {
   "codemirror_mode": {
    "name": "ipython",
    "version": 3
   },
   "file_extension": ".py",
   "mimetype": "text/x-python",
   "name": "python",
   "nbconvert_exporter": "python",
   "pygments_lexer": "ipython3",
   "version": "3.8.8"
  },
  "orig_nbformat": 4
 },
 "nbformat": 4,
 "nbformat_minor": 2
}